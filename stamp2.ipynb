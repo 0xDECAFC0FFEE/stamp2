{
 "cells": [
  {
   "cell_type": "code",
   "execution_count": 27,
   "metadata": {},
   "outputs": [
    {
     "name": "stdout",
     "output_type": "stream",
     "text": "The autoreload extension is already loaded. To reload it, use:\n  %reload_ext autoreload\n"
    }
   ],
   "source": [
    "%load_ext autoreload\n",
    "%autoreload 2\n",
    "\n",
    "from pathlib import Path\n",
    "import random\n",
    "import numpy as np\n",
    "np.set_printoptions(edgeitems=30, linewidth=100000, formatter=dict(float=lambda x: \"%.3g\" % x))\n",
    "import tensorflow as tf\n",
    "import pandas as pd\n",
    "from utils import *\n",
    "from scipy.sparse import csr_matrix\n",
    "import matplotlib.pyplot as plt\n",
    "from tqdm import tqdm\n",
    "from collections import Counter\n",
    "from tqdm import tqdm\n",
    "from tensorflow.keras.preprocessing import sequence\n",
    "from tensorflow.keras.models import Sequential\n",
    "from tensorflow.keras.layers import Dense, Dropout, Embedding, LSTM, Bidirectional\n",
    "from tensorflow.keras.datasets import imdb\n",
    "from tensorflow.keras import Model, regularizers\n",
    "from tensorflow.keras.layers import Flatten, Dense, Embedding, RNN, LSTM, Bidirectional\n",
    "from tensorflow import keras\n",
    "import tensorflow as tf\n",
    "\n",
    "physical_devices = tf.config.experimental.list_physical_devices('GPU')\n",
    "tf.config.experimental.set_memory_growth(physical_devices[0], True)"
   ]
  },
  {
   "cell_type": "code",
   "execution_count": 33,
   "metadata": {},
   "outputs": [
    {
     "name": "stdout",
     "output_type": "stream",
     "text": "found yoochoose cache\n"
    },
    {
     "data": {
      "image/png": "[encoded data removed]",
      "image/svg+xml": "<?xml version=\"1.0\" encoding=\"utf-8\" standalone=\"no\"?>\n<!DOCTYPE svg PUBLIC \"-//W3C//DTD SVG 1.1//EN\"\n  \"http://www.w3.org/Graphics/SVG/1.1/DTD/svg11.dtd\">\n<!-- Created with matplotlib (https://matplotlib.org/) -->\n<svg height=\"277.314375pt\" version=\"1.1\" viewBox=\"0 0 401.690625 277.314375\" width=\"401.690625pt\" xmlns=\"http://www.w3.org/2000/svg\" xmlns:xlink=\"http://www.w3.org/1999/xlink\">\n <defs>\n  <style type=\"text/css\">\n*{stroke-linecap:butt;stroke-linejoin:round;}\n  </style>\n </defs>\n <g id=\"figure_1\">\n  <g id=\"patch_1\">\n   <path d=\"M 0 277.314375 \nL 401.690625 277.314375 \nL 401.690625 0 \nL 0 0 \nz\n\" style=\"fill:none;\"/>\n  </g>\n  <g id=\"axes_1\">\n   <g id=\"patch_2\">\n    <path d=\"M 59.690625 239.758125 \nL 394.490625 239.758125 \nL 394.490625 22.318125 \nL 59.690625 22.318125 \nz\n\" style=\"fill:#ffffff;\"/>\n   </g>\n   <g id=\"patch_3\">\n    <path clip-path=\"url(#pb377bb3485)\" d=\"M 74.908807 239.758125 \nL 91.817898 239.758125 \nL 91.817898 186.580122 \nL 74.908807 186.580122 \nz\n\" style=\"fill:#1f77b4;\"/>\n   </g>\n   <g id=\"patch_4\">\n    <path clip-path=\"url(#pb377bb3485)\" d=\"M 91.817898 239.758125 \nL 108.726989 239.758125 \nL 108.726989 32.672411 \nL 91.817898 32.672411 \nz\n\" style=\"fill:#1f77b4;\"/>\n   </g>\n   <g id=\"patch_5\">\n    <path clip-path=\"url(#pb377bb3485)\" d=\"M 108.726989 239.758125 \nL 125.63608 239.758125 \nL 125.63608 57.567625 \nL 108.726989 57.567625 \nz\n\" style=\"fill:#1f77b4;\"/>\n   </g>\n   <g id=\"patch_6\">\n    <path clip-path=\"url(#pb377bb3485)\" d=\"M 125.63608 239.758125 \nL 142.54517 239.758125 \nL 142.54517 112.674058 \nL 125.63608 112.674058 \nz\n\" style=\"fill:#1f77b4;\"/>\n   </g>\n   <g id=\"patch_7\">\n    <path clip-path=\"url(#pb377bb3485)\" d=\"M 142.54517 239.758125 \nL 159.454261 239.758125 \nL 159.454261 125.311431 \nL 142.54517 125.311431 \nz\n\" style=\"fill:#1f77b4;\"/>\n   </g>\n   <g id=\"patch_8\">\n    <path clip-path=\"url(#pb377bb3485)\" d=\"M 159.454261 239.758125 \nL 176.363352 239.758125 \nL 176.363352 150.642593 \nL 159.454261 150.642593 \nz\n\" style=\"fill:#1f77b4;\"/>\n   </g>\n   <g id=\"patch_9\">\n    <path clip-path=\"url(#pb377bb3485)\" d=\"M 176.363352 239.758125 \nL 193.272443 239.758125 \nL 193.272443 163.133795 \nL 176.363352 163.133795 \nz\n\" style=\"fill:#1f77b4;\"/>\n   </g>\n   <g id=\"patch_10\">\n    <path clip-path=\"url(#pb377bb3485)\" d=\"M 193.272443 239.758125 \nL 210.181534 239.758125 \nL 210.181534 176.709739 \nL 193.272443 176.709739 \nz\n\" style=\"fill:#1f77b4;\"/>\n   </g>\n   <g id=\"patch_11\">\n    <path clip-path=\"url(#pb377bb3485)\" d=\"M 210.181534 239.758125 \nL 227.090625 239.758125 \nL 227.090625 185.741563 \nL 210.181534 185.741563 \nz\n\" style=\"fill:#1f77b4;\"/>\n   </g>\n   <g id=\"patch_12\">\n    <path clip-path=\"url(#pb377bb3485)\" d=\"M 227.090625 239.758125 \nL 243.999716 239.758125 \nL 243.999716 194.127157 \nL 227.090625 194.127157 \nz\n\" style=\"fill:#1f77b4;\"/>\n   </g>\n   <g id=\"patch_13\">\n    <path clip-path=\"url(#pb377bb3485)\" d=\"M 243.999716 239.758125 \nL 260.908807 239.758125 \nL 260.908807 200.797166 \nL 243.999716 200.797166 \nz\n\" style=\"fill:#1f77b4;\"/>\n   </g>\n   <g id=\"patch_14\">\n    <path clip-path=\"url(#pb377bb3485)\" d=\"M 260.908807 239.758125 \nL 277.817898 239.758125 \nL 277.817898 206.71837 \nL 260.908807 206.71837 \nz\n\" style=\"fill:#1f77b4;\"/>\n   </g>\n   <g id=\"patch_15\">\n    <path clip-path=\"url(#pb377bb3485)\" d=\"M 277.817898 239.758125 \nL 294.726989 239.758125 \nL 294.726989 211.267619 \nL 277.817898 211.267619 \nz\n\" style=\"fill:#1f77b4;\"/>\n   </g>\n   <g id=\"patch_16\">\n    <path clip-path=\"url(#pb377bb3485)\" d=\"M 294.726989 239.758125 \nL 311.63608 239.758125 \nL 311.63608 215.047548 \nL 294.726989 215.047548 \nz\n\" style=\"fill:#1f77b4;\"/>\n   </g>\n   <g id=\"patch_17\">\n    <path clip-path=\"url(#pb377bb3485)\" d=\"M 311.63608 239.758125 \nL 328.54517 239.758125 \nL 328.54517 218.409479 \nL 311.63608 218.409479 \nz\n\" style=\"fill:#1f77b4;\"/>\n   </g>\n   <g id=\"patch_18\">\n    <path clip-path=\"url(#pb377bb3485)\" d=\"M 328.54517 239.758125 \nL 345.454261 239.758125 \nL 345.454261 222.158634 \nL 328.54517 222.158634 \nz\n\" style=\"fill:#1f77b4;\"/>\n   </g>\n   <g id=\"patch_19\">\n    <path clip-path=\"url(#pb377bb3485)\" d=\"M 345.454261 239.758125 \nL 362.363352 239.758125 \nL 362.363352 223.869091 \nL 345.454261 223.869091 \nz\n\" style=\"fill:#1f77b4;\"/>\n   </g>\n   <g id=\"patch_20\">\n    <path clip-path=\"url(#pb377bb3485)\" d=\"M 362.363352 239.758125 \nL 379.272443 239.758125 \nL 379.272443 226.441186 \nL 362.363352 226.441186 \nz\n\" style=\"fill:#1f77b4;\"/>\n   </g>\n   <g id=\"matplotlib.axis_1\">\n    <g id=\"xtick_1\">\n     <g id=\"line2d_1\">\n      <defs>\n       <path d=\"M 0 0 \nL 0 3.5 \n\" id=\"m3c94ac6e04\" style=\"stroke:#000000;stroke-width:0.8;\"/>\n      </defs>\n      <g>\n       <use style=\"stroke:#000000;stroke-width:0.8;\" x=\"83.860678\" xlink:href=\"#m3c94ac6e04\" y=\"239.758125\"/>\n      </g>\n     </g>\n     <g id=\"text_1\">\n      <!-- 2.5 -->\n      <defs>\n       <path d=\"M 19.1875 8.296875 \nL 53.609375 8.296875 \nL 53.609375 0 \nL 7.328125 0 \nL 7.328125 8.296875 \nQ 12.9375 14.109375 22.625 23.890625 \nQ 32.328125 33.6875 34.8125 36.53125 \nQ 39.546875 41.84375 41.421875 45.53125 \nQ 43.3125 49.21875 43.3125 52.78125 \nQ 43.3125 58.59375 39.234375 62.25 \nQ 35.15625 65.921875 28.609375 65.921875 \nQ 23.96875 65.921875 18.8125 64.3125 \nQ 13.671875 62.703125 7.8125 59.421875 \nL 7.8125 69.390625 \nQ 13.765625 71.78125 18.9375 73 \nQ 24.125 74.21875 28.421875 74.21875 \nQ 39.75 74.21875 46.484375 68.546875 \nQ 53.21875 62.890625 53.21875 53.421875 \nQ 53.21875 48.921875 51.53125 44.890625 \nQ 49.859375 40.875 45.40625 35.40625 \nQ 44.1875 33.984375 37.640625 27.21875 \nQ 31.109375 20.453125 19.1875 8.296875 \nz\n\" id=\"DejaVuSans-50\"/>\n       <path d=\"M 10.6875 12.40625 \nL 21 12.40625 \nL 21 0 \nL 10.6875 0 \nz\n\" id=\"DejaVuSans-46\"/>\n       <path d=\"M 10.796875 72.90625 \nL 49.515625 72.90625 \nL 49.515625 64.59375 \nL 19.828125 64.59375 \nL 19.828125 46.734375 \nQ 21.96875 47.46875 24.109375 47.828125 \nQ 26.265625 48.1875 28.421875 48.1875 \nQ 40.625 48.1875 47.75 41.5 \nQ 54.890625 34.8125 54.890625 23.390625 \nQ 54.890625 11.625 47.5625 5.09375 \nQ 40.234375 -1.421875 26.90625 -1.421875 \nQ 22.3125 -1.421875 17.546875 -0.640625 \nQ 12.796875 0.140625 7.71875 1.703125 \nL 7.71875 11.625 \nQ 12.109375 9.234375 16.796875 8.0625 \nQ 21.484375 6.890625 26.703125 6.890625 \nQ 35.15625 6.890625 40.078125 11.328125 \nQ 45.015625 15.765625 45.015625 23.390625 \nQ 45.015625 31 40.078125 35.4375 \nQ 35.15625 39.890625 26.703125 39.890625 \nQ 22.75 39.890625 18.8125 39.015625 \nQ 14.890625 38.140625 10.796875 36.28125 \nz\n\" id=\"DejaVuSans-53\"/>\n      </defs>\n      <g transform=\"translate(75.909116 254.356562)scale(0.1 -0.1)\">\n       <use xlink:href=\"#DejaVuSans-50\"/>\n       <use x=\"63.623047\" xlink:href=\"#DejaVuSans-46\"/>\n       <use x=\"95.410156\" xlink:href=\"#DejaVuSans-53\"/>\n      </g>\n     </g>\n    </g>\n    <g id=\"xtick_2\">\n     <g id=\"line2d_2\">\n      <g>\n       <use style=\"stroke:#000000;stroke-width:0.8;\" x=\"128.620037\" xlink:href=\"#m3c94ac6e04\" y=\"239.758125\"/>\n      </g>\n     </g>\n     <g id=\"text_2\">\n      <!-- 5.0 -->\n      <defs>\n       <path d=\"M 31.78125 66.40625 \nQ 24.171875 66.40625 20.328125 58.90625 \nQ 16.5 51.421875 16.5 36.375 \nQ 16.5 21.390625 20.328125 13.890625 \nQ 24.171875 6.390625 31.78125 6.390625 \nQ 39.453125 6.390625 43.28125 13.890625 \nQ 47.125 21.390625 47.125 36.375 \nQ 47.125 51.421875 43.28125 58.90625 \nQ 39.453125 66.40625 31.78125 66.40625 \nz\nM 31.78125 74.21875 \nQ 44.046875 74.21875 50.515625 64.515625 \nQ 56.984375 54.828125 56.984375 36.375 \nQ 56.984375 17.96875 50.515625 8.265625 \nQ 44.046875 -1.421875 31.78125 -1.421875 \nQ 19.53125 -1.421875 13.0625 8.265625 \nQ 6.59375 17.96875 6.59375 36.375 \nQ 6.59375 54.828125 13.0625 64.515625 \nQ 19.53125 74.21875 31.78125 74.21875 \nz\n\" id=\"DejaVuSans-48\"/>\n      </defs>\n      <g transform=\"translate(120.668474 254.356562)scale(0.1 -0.1)\">\n       <use xlink:href=\"#DejaVuSans-53\"/>\n       <use x=\"63.623047\" xlink:href=\"#DejaVuSans-46\"/>\n       <use x=\"95.410156\" xlink:href=\"#DejaVuSans-48\"/>\n      </g>\n     </g>\n    </g>\n    <g id=\"xtick_3\">\n     <g id=\"line2d_3\">\n      <g>\n       <use style=\"stroke:#000000;stroke-width:0.8;\" x=\"173.379395\" xlink:href=\"#m3c94ac6e04\" y=\"239.758125\"/>\n      </g>\n     </g>\n     <g id=\"text_3\">\n      <!-- 7.5 -->\n      <defs>\n       <path d=\"M 8.203125 72.90625 \nL 55.078125 72.90625 \nL 55.078125 68.703125 \nL 28.609375 0 \nL 18.3125 0 \nL 43.21875 64.59375 \nL 8.203125 64.59375 \nz\n\" id=\"DejaVuSans-55\"/>\n      </defs>\n      <g transform=\"translate(165.427833 254.356562)scale(0.1 -0.1)\">\n       <use xlink:href=\"#DejaVuSans-55\"/>\n       <use x=\"63.623047\" xlink:href=\"#DejaVuSans-46\"/>\n       <use x=\"95.410156\" xlink:href=\"#DejaVuSans-53\"/>\n      </g>\n     </g>\n    </g>\n    <g id=\"xtick_4\">\n     <g id=\"line2d_4\">\n      <g>\n       <use style=\"stroke:#000000;stroke-width:0.8;\" x=\"218.138753\" xlink:href=\"#m3c94ac6e04\" y=\"239.758125\"/>\n      </g>\n     </g>\n     <g id=\"text_4\">\n      <!-- 10.0 -->\n      <defs>\n       <path d=\"M 12.40625 8.296875 \nL 28.515625 8.296875 \nL 28.515625 63.921875 \nL 10.984375 60.40625 \nL 10.984375 69.390625 \nL 28.421875 72.90625 \nL 38.28125 72.90625 \nL 38.28125 8.296875 \nL 54.390625 8.296875 \nL 54.390625 0 \nL 12.40625 0 \nz\n\" id=\"DejaVuSans-49\"/>\n      </defs>\n      <g transform=\"translate(207.005941 254.356562)scale(0.1 -0.1)\">\n       <use xlink:href=\"#DejaVuSans-49\"/>\n       <use x=\"63.623047\" xlink:href=\"#DejaVuSans-48\"/>\n       <use x=\"127.246094\" xlink:href=\"#DejaVuSans-46\"/>\n       <use x=\"159.033203\" xlink:href=\"#DejaVuSans-48\"/>\n      </g>\n     </g>\n    </g>\n    <g id=\"xtick_5\">\n     <g id=\"line2d_5\">\n      <g>\n       <use style=\"stroke:#000000;stroke-width:0.8;\" x=\"262.898112\" xlink:href=\"#m3c94ac6e04\" y=\"239.758125\"/>\n      </g>\n     </g>\n     <g id=\"text_5\">\n      <!-- 12.5 -->\n      <g transform=\"translate(251.765299 254.356562)scale(0.1 -0.1)\">\n       <use xlink:href=\"#DejaVuSans-49\"/>\n       <use x=\"63.623047\" xlink:href=\"#DejaVuSans-50\"/>\n       <use x=\"127.246094\" xlink:href=\"#DejaVuSans-46\"/>\n       <use x=\"159.033203\" xlink:href=\"#DejaVuSans-53\"/>\n      </g>\n     </g>\n    </g>\n    <g id=\"xtick_6\">\n     <g id=\"line2d_6\">\n      <g>\n       <use style=\"stroke:#000000;stroke-width:0.8;\" x=\"307.65747\" xlink:href=\"#m3c94ac6e04\" y=\"239.758125\"/>\n      </g>\n     </g>\n     <g id=\"text_6\">\n      <!-- 15.0 -->\n      <g transform=\"translate(296.524657 254.356562)scale(0.1 -0.1)\">\n       <use xlink:href=\"#DejaVuSans-49\"/>\n       <use x=\"63.623047\" xlink:href=\"#DejaVuSans-53\"/>\n       <use x=\"127.246094\" xlink:href=\"#DejaVuSans-46\"/>\n       <use x=\"159.033203\" xlink:href=\"#DejaVuSans-48\"/>\n      </g>\n     </g>\n    </g>\n    <g id=\"xtick_7\">\n     <g id=\"line2d_7\">\n      <g>\n       <use style=\"stroke:#000000;stroke-width:0.8;\" x=\"352.416828\" xlink:href=\"#m3c94ac6e04\" y=\"239.758125\"/>\n      </g>\n     </g>\n     <g id=\"text_7\">\n      <!-- 17.5 -->\n      <g transform=\"translate(341.284016 254.356562)scale(0.1 -0.1)\">\n       <use xlink:href=\"#DejaVuSans-49\"/>\n       <use x=\"63.623047\" xlink:href=\"#DejaVuSans-55\"/>\n       <use x=\"127.246094\" xlink:href=\"#DejaVuSans-46\"/>\n       <use x=\"159.033203\" xlink:href=\"#DejaVuSans-53\"/>\n      </g>\n     </g>\n    </g>\n    <g id=\"text_8\">\n     <!-- session length -->\n     <defs>\n      <path d=\"M 44.28125 53.078125 \nL 44.28125 44.578125 \nQ 40.484375 46.53125 36.375 47.5 \nQ 32.28125 48.484375 27.875 48.484375 \nQ 21.1875 48.484375 17.84375 46.4375 \nQ 14.5 44.390625 14.5 40.28125 \nQ 14.5 37.15625 16.890625 35.375 \nQ 19.28125 33.59375 26.515625 31.984375 \nL 29.59375 31.296875 \nQ 39.15625 29.25 43.1875 25.515625 \nQ 47.21875 21.78125 47.21875 15.09375 \nQ 47.21875 7.46875 41.1875 3.015625 \nQ 35.15625 -1.421875 24.609375 -1.421875 \nQ 20.21875 -1.421875 15.453125 -0.5625 \nQ 10.6875 0.296875 5.421875 2 \nL 5.421875 11.28125 \nQ 10.40625 8.6875 15.234375 7.390625 \nQ 20.0625 6.109375 24.8125 6.109375 \nQ 31.15625 6.109375 34.5625 8.28125 \nQ 37.984375 10.453125 37.984375 14.40625 \nQ 37.984375 18.0625 35.515625 20.015625 \nQ 33.0625 21.96875 24.703125 23.78125 \nL 21.578125 24.515625 \nQ 13.234375 26.265625 9.515625 29.90625 \nQ 5.8125 33.546875 5.8125 39.890625 \nQ 5.8125 47.609375 11.28125 51.796875 \nQ 16.75 56 26.8125 56 \nQ 31.78125 56 36.171875 55.265625 \nQ 40.578125 54.546875 44.28125 53.078125 \nz\n\" id=\"DejaVuSans-115\"/>\n      <path d=\"M 56.203125 29.59375 \nL 56.203125 25.203125 \nL 14.890625 25.203125 \nQ 15.484375 15.921875 20.484375 11.0625 \nQ 25.484375 6.203125 34.421875 6.203125 \nQ 39.59375 6.203125 44.453125 7.46875 \nQ 49.3125 8.734375 54.109375 11.28125 \nL 54.109375 2.78125 \nQ 49.265625 0.734375 44.1875 -0.34375 \nQ 39.109375 -1.421875 33.890625 -1.421875 \nQ 20.796875 -1.421875 13.15625 6.1875 \nQ 5.515625 13.8125 5.515625 26.8125 \nQ 5.515625 40.234375 12.765625 48.109375 \nQ 20.015625 56 32.328125 56 \nQ 43.359375 56 49.78125 48.890625 \nQ 56.203125 41.796875 56.203125 29.59375 \nz\nM 47.21875 32.234375 \nQ 47.125 39.59375 43.09375 43.984375 \nQ 39.0625 48.390625 32.421875 48.390625 \nQ 24.90625 48.390625 20.390625 44.140625 \nQ 15.875 39.890625 15.1875 32.171875 \nz\n\" id=\"DejaVuSans-101\"/>\n      <path d=\"M 9.421875 54.6875 \nL 18.40625 54.6875 \nL 18.40625 0 \nL 9.421875 0 \nz\nM 9.421875 75.984375 \nL 18.40625 75.984375 \nL 18.40625 64.59375 \nL 9.421875 64.59375 \nz\n\" id=\"DejaVuSans-105\"/>\n      <path d=\"M 30.609375 48.390625 \nQ 23.390625 48.390625 19.1875 42.75 \nQ 14.984375 37.109375 14.984375 27.296875 \nQ 14.984375 17.484375 19.15625 11.84375 \nQ 23.34375 6.203125 30.609375 6.203125 \nQ 37.796875 6.203125 41.984375 11.859375 \nQ 46.1875 17.53125 46.1875 27.296875 \nQ 46.1875 37.015625 41.984375 42.703125 \nQ 37.796875 48.390625 30.609375 48.390625 \nz\nM 30.609375 56 \nQ 42.328125 56 49.015625 48.375 \nQ 55.71875 40.765625 55.71875 27.296875 \nQ 55.71875 13.875 49.015625 6.21875 \nQ 42.328125 -1.421875 30.609375 -1.421875 \nQ 18.84375 -1.421875 12.171875 6.21875 \nQ 5.515625 13.875 5.515625 27.296875 \nQ 5.515625 40.765625 12.171875 48.375 \nQ 18.84375 56 30.609375 56 \nz\n\" id=\"DejaVuSans-111\"/>\n      <path d=\"M 54.890625 33.015625 \nL 54.890625 0 \nL 45.90625 0 \nL 45.90625 32.71875 \nQ 45.90625 40.484375 42.875 44.328125 \nQ 39.84375 48.1875 33.796875 48.1875 \nQ 26.515625 48.1875 22.3125 43.546875 \nQ 18.109375 38.921875 18.109375 30.90625 \nL 18.109375 0 \nL 9.078125 0 \nL 9.078125 54.6875 \nL 18.109375 54.6875 \nL 18.109375 46.1875 \nQ 21.34375 51.125 25.703125 53.5625 \nQ 30.078125 56 35.796875 56 \nQ 45.21875 56 50.046875 50.171875 \nQ 54.890625 44.34375 54.890625 33.015625 \nz\n\" id=\"DejaVuSans-110\"/>\n      <path id=\"DejaVuSans-32\"/>\n      <path d=\"M 9.421875 75.984375 \nL 18.40625 75.984375 \nL 18.40625 0 \nL 9.421875 0 \nz\n\" id=\"DejaVuSans-108\"/>\n      <path d=\"M 45.40625 27.984375 \nQ 45.40625 37.75 41.375 43.109375 \nQ 37.359375 48.484375 30.078125 48.484375 \nQ 22.859375 48.484375 18.828125 43.109375 \nQ 14.796875 37.75 14.796875 27.984375 \nQ 14.796875 18.265625 18.828125 12.890625 \nQ 22.859375 7.515625 30.078125 7.515625 \nQ 37.359375 7.515625 41.375 12.890625 \nQ 45.40625 18.265625 45.40625 27.984375 \nz\nM 54.390625 6.78125 \nQ 54.390625 -7.171875 48.1875 -13.984375 \nQ 42 -20.796875 29.203125 -20.796875 \nQ 24.46875 -20.796875 20.265625 -20.09375 \nQ 16.0625 -19.390625 12.109375 -17.921875 \nL 12.109375 -9.1875 \nQ 16.0625 -11.328125 19.921875 -12.34375 \nQ 23.78125 -13.375 27.78125 -13.375 \nQ 36.625 -13.375 41.015625 -8.765625 \nQ 45.40625 -4.15625 45.40625 5.171875 \nL 45.40625 9.625 \nQ 42.625 4.78125 38.28125 2.390625 \nQ 33.9375 0 27.875 0 \nQ 17.828125 0 11.671875 7.65625 \nQ 5.515625 15.328125 5.515625 27.984375 \nQ 5.515625 40.671875 11.671875 48.328125 \nQ 17.828125 56 27.875 56 \nQ 33.9375 56 38.28125 53.609375 \nQ 42.625 51.21875 45.40625 46.390625 \nL 45.40625 54.6875 \nL 54.390625 54.6875 \nz\n\" id=\"DejaVuSans-103\"/>\n      <path d=\"M 18.3125 70.21875 \nL 18.3125 54.6875 \nL 36.8125 54.6875 \nL 36.8125 47.703125 \nL 18.3125 47.703125 \nL 18.3125 18.015625 \nQ 18.3125 11.328125 20.140625 9.421875 \nQ 21.96875 7.515625 27.59375 7.515625 \nL 36.8125 7.515625 \nL 36.8125 0 \nL 27.59375 0 \nQ 17.1875 0 13.234375 3.875 \nQ 9.28125 7.765625 9.28125 18.015625 \nL 9.28125 47.703125 \nL 2.6875 47.703125 \nL 2.6875 54.6875 \nL 9.28125 54.6875 \nL 9.28125 70.21875 \nz\n\" id=\"DejaVuSans-116\"/>\n      <path d=\"M 54.890625 33.015625 \nL 54.890625 0 \nL 45.90625 0 \nL 45.90625 32.71875 \nQ 45.90625 40.484375 42.875 44.328125 \nQ 39.84375 48.1875 33.796875 48.1875 \nQ 26.515625 48.1875 22.3125 43.546875 \nQ 18.109375 38.921875 18.109375 30.90625 \nL 18.109375 0 \nL 9.078125 0 \nL 9.078125 75.984375 \nL 18.109375 75.984375 \nL 18.109375 46.1875 \nQ 21.34375 51.125 25.703125 53.5625 \nQ 30.078125 56 35.796875 56 \nQ 45.21875 56 50.046875 50.171875 \nQ 54.890625 44.34375 54.890625 33.015625 \nz\n\" id=\"DejaVuSans-104\"/>\n     </defs>\n     <g transform=\"translate(191.05625 268.034687)scale(0.1 -0.1)\">\n      <use xlink:href=\"#DejaVuSans-115\"/>\n      <use x=\"52.099609\" xlink:href=\"#DejaVuSans-101\"/>\n      <use x=\"113.623047\" xlink:href=\"#DejaVuSans-115\"/>\n      <use x=\"165.722656\" xlink:href=\"#DejaVuSans-115\"/>\n      <use x=\"217.822266\" xlink:href=\"#DejaVuSans-105\"/>\n      <use x=\"245.605469\" xlink:href=\"#DejaVuSans-111\"/>\n      <use x=\"306.787109\" xlink:href=\"#DejaVuSans-110\"/>\n      <use x=\"370.166016\" xlink:href=\"#DejaVuSans-32\"/>\n      <use x=\"401.953125\" xlink:href=\"#DejaVuSans-108\"/>\n      <use x=\"429.736328\" xlink:href=\"#DejaVuSans-101\"/>\n      <use x=\"491.259766\" xlink:href=\"#DejaVuSans-110\"/>\n      <use x=\"554.638672\" xlink:href=\"#DejaVuSans-103\"/>\n      <use x=\"618.115234\" xlink:href=\"#DejaVuSans-116\"/>\n      <use x=\"657.324219\" xlink:href=\"#DejaVuSans-104\"/>\n     </g>\n    </g>\n   </g>\n   <g id=\"matplotlib.axis_2\">\n    <g id=\"ytick_1\">\n     <g id=\"line2d_8\">\n      <defs>\n       <path d=\"M 0 0 \nL -3.5 0 \n\" id=\"meee237aff7\" style=\"stroke:#000000;stroke-width:0.8;\"/>\n      </defs>\n      <g>\n       <use style=\"stroke:#000000;stroke-width:0.8;\" x=\"59.690625\" xlink:href=\"#meee237aff7\" y=\"239.758125\"/>\n      </g>\n     </g>\n     <g id=\"text_9\">\n      <!-- 0 -->\n      <g transform=\"translate(46.328125 243.557344)scale(0.1 -0.1)\">\n       <use xlink:href=\"#DejaVuSans-48\"/>\n      </g>\n     </g>\n    </g>\n    <g id=\"ytick_2\">\n     <g id=\"line2d_9\">\n      <g>\n       <use style=\"stroke:#000000;stroke-width:0.8;\" x=\"59.690625\" xlink:href=\"#meee237aff7\" y=\"214.114106\"/>\n      </g>\n     </g>\n     <g id=\"text_10\">\n      <!-- 10000 -->\n      <g transform=\"translate(20.878125 217.913324)scale(0.1 -0.1)\">\n       <use xlink:href=\"#DejaVuSans-49\"/>\n       <use x=\"63.623047\" xlink:href=\"#DejaVuSans-48\"/>\n       <use x=\"127.246094\" xlink:href=\"#DejaVuSans-48\"/>\n       <use x=\"190.869141\" xlink:href=\"#DejaVuSans-48\"/>\n       <use x=\"254.492188\" xlink:href=\"#DejaVuSans-48\"/>\n      </g>\n     </g>\n    </g>\n    <g id=\"ytick_3\">\n     <g id=\"line2d_10\">\n      <g>\n       <use style=\"stroke:#000000;stroke-width:0.8;\" x=\"59.690625\" xlink:href=\"#meee237aff7\" y=\"188.470086\"/>\n      </g>\n     </g>\n     <g id=\"text_11\">\n      <!-- 20000 -->\n      <g transform=\"translate(20.878125 192.269305)scale(0.1 -0.1)\">\n       <use xlink:href=\"#DejaVuSans-50\"/>\n       <use x=\"63.623047\" xlink:href=\"#DejaVuSans-48\"/>\n       <use x=\"127.246094\" xlink:href=\"#DejaVuSans-48\"/>\n       <use x=\"190.869141\" xlink:href=\"#DejaVuSans-48\"/>\n       <use x=\"254.492188\" xlink:href=\"#DejaVuSans-48\"/>\n      </g>\n     </g>\n    </g>\n    <g id=\"ytick_4\">\n     <g id=\"line2d_11\">\n      <g>\n       <use style=\"stroke:#000000;stroke-width:0.8;\" x=\"59.690625\" xlink:href=\"#meee237aff7\" y=\"162.826067\"/>\n      </g>\n     </g>\n     <g id=\"text_12\">\n      <!-- 30000 -->\n      <defs>\n       <path d=\"M 40.578125 39.3125 \nQ 47.65625 37.796875 51.625 33 \nQ 55.609375 28.21875 55.609375 21.1875 \nQ 55.609375 10.40625 48.1875 4.484375 \nQ 40.765625 -1.421875 27.09375 -1.421875 \nQ 22.515625 -1.421875 17.65625 -0.515625 \nQ 12.796875 0.390625 7.625 2.203125 \nL 7.625 11.71875 \nQ 11.71875 9.328125 16.59375 8.109375 \nQ 21.484375 6.890625 26.8125 6.890625 \nQ 36.078125 6.890625 40.9375 10.546875 \nQ 45.796875 14.203125 45.796875 21.1875 \nQ 45.796875 27.640625 41.28125 31.265625 \nQ 36.765625 34.90625 28.71875 34.90625 \nL 20.21875 34.90625 \nL 20.21875 43.015625 \nL 29.109375 43.015625 \nQ 36.375 43.015625 40.234375 45.921875 \nQ 44.09375 48.828125 44.09375 54.296875 \nQ 44.09375 59.90625 40.109375 62.90625 \nQ 36.140625 65.921875 28.71875 65.921875 \nQ 24.65625 65.921875 20.015625 65.03125 \nQ 15.375 64.15625 9.8125 62.3125 \nL 9.8125 71.09375 \nQ 15.4375 72.65625 20.34375 73.4375 \nQ 25.25 74.21875 29.59375 74.21875 \nQ 40.828125 74.21875 47.359375 69.109375 \nQ 53.90625 64.015625 53.90625 55.328125 \nQ 53.90625 49.265625 50.4375 45.09375 \nQ 46.96875 40.921875 40.578125 39.3125 \nz\n\" id=\"DejaVuSans-51\"/>\n      </defs>\n      <g transform=\"translate(20.878125 166.625286)scale(0.1 -0.1)\">\n       <use xlink:href=\"#DejaVuSans-51\"/>\n       <use x=\"63.623047\" xlink:href=\"#DejaVuSans-48\"/>\n       <use x=\"127.246094\" xlink:href=\"#DejaVuSans-48\"/>\n       <use x=\"190.869141\" xlink:href=\"#DejaVuSans-48\"/>\n       <use x=\"254.492188\" xlink:href=\"#DejaVuSans-48\"/>\n      </g>\n     </g>\n    </g>\n    <g id=\"ytick_5\">\n     <g id=\"line2d_12\">\n      <g>\n       <use style=\"stroke:#000000;stroke-width:0.8;\" x=\"59.690625\" xlink:href=\"#meee237aff7\" y=\"137.182047\"/>\n      </g>\n     </g>\n     <g id=\"text_13\">\n      <!-- 40000 -->\n      <defs>\n       <path d=\"M 37.796875 64.3125 \nL 12.890625 25.390625 \nL 37.796875 25.390625 \nz\nM 35.203125 72.90625 \nL 47.609375 72.90625 \nL 47.609375 25.390625 \nL 58.015625 25.390625 \nL 58.015625 17.1875 \nL 47.609375 17.1875 \nL 47.609375 0 \nL 37.796875 0 \nL 37.796875 17.1875 \nL 4.890625 17.1875 \nL 4.890625 26.703125 \nz\n\" id=\"DejaVuSans-52\"/>\n      </defs>\n      <g transform=\"translate(20.878125 140.981266)scale(0.1 -0.1)\">\n       <use xlink:href=\"#DejaVuSans-52\"/>\n       <use x=\"63.623047\" xlink:href=\"#DejaVuSans-48\"/>\n       <use x=\"127.246094\" xlink:href=\"#DejaVuSans-48\"/>\n       <use x=\"190.869141\" xlink:href=\"#DejaVuSans-48\"/>\n       <use x=\"254.492188\" xlink:href=\"#DejaVuSans-48\"/>\n      </g>\n     </g>\n    </g>\n    <g id=\"ytick_6\">\n     <g id=\"line2d_13\">\n      <g>\n       <use style=\"stroke:#000000;stroke-width:0.8;\" x=\"59.690625\" xlink:href=\"#meee237aff7\" y=\"111.538028\"/>\n      </g>\n     </g>\n     <g id=\"text_14\">\n      <!-- 50000 -->\n      <g transform=\"translate(20.878125 115.337247)scale(0.1 -0.1)\">\n       <use xlink:href=\"#DejaVuSans-53\"/>\n       <use x=\"63.623047\" xlink:href=\"#DejaVuSans-48\"/>\n       <use x=\"127.246094\" xlink:href=\"#DejaVuSans-48\"/>\n       <use x=\"190.869141\" xlink:href=\"#DejaVuSans-48\"/>\n       <use x=\"254.492188\" xlink:href=\"#DejaVuSans-48\"/>\n      </g>\n     </g>\n    </g>\n    <g id=\"ytick_7\">\n     <g id=\"line2d_14\">\n      <g>\n       <use style=\"stroke:#000000;stroke-width:0.8;\" x=\"59.690625\" xlink:href=\"#meee237aff7\" y=\"85.894009\"/>\n      </g>\n     </g>\n     <g id=\"text_15\">\n      <!-- 60000 -->\n      <defs>\n       <path d=\"M 33.015625 40.375 \nQ 26.375 40.375 22.484375 35.828125 \nQ 18.609375 31.296875 18.609375 23.390625 \nQ 18.609375 15.53125 22.484375 10.953125 \nQ 26.375 6.390625 33.015625 6.390625 \nQ 39.65625 6.390625 43.53125 10.953125 \nQ 47.40625 15.53125 47.40625 23.390625 \nQ 47.40625 31.296875 43.53125 35.828125 \nQ 39.65625 40.375 33.015625 40.375 \nz\nM 52.59375 71.296875 \nL 52.59375 62.3125 \nQ 48.875 64.0625 45.09375 64.984375 \nQ 41.3125 65.921875 37.59375 65.921875 \nQ 27.828125 65.921875 22.671875 59.328125 \nQ 17.53125 52.734375 16.796875 39.40625 \nQ 19.671875 43.65625 24.015625 45.921875 \nQ 28.375 48.1875 33.59375 48.1875 \nQ 44.578125 48.1875 50.953125 41.515625 \nQ 57.328125 34.859375 57.328125 23.390625 \nQ 57.328125 12.15625 50.6875 5.359375 \nQ 44.046875 -1.421875 33.015625 -1.421875 \nQ 20.359375 -1.421875 13.671875 8.265625 \nQ 6.984375 17.96875 6.984375 36.375 \nQ 6.984375 53.65625 15.1875 63.9375 \nQ 23.390625 74.21875 37.203125 74.21875 \nQ 40.921875 74.21875 44.703125 73.484375 \nQ 48.484375 72.75 52.59375 71.296875 \nz\n\" id=\"DejaVuSans-54\"/>\n      </defs>\n      <g transform=\"translate(20.878125 89.693227)scale(0.1 -0.1)\">\n       <use xlink:href=\"#DejaVuSans-54\"/>\n       <use x=\"63.623047\" xlink:href=\"#DejaVuSans-48\"/>\n       <use x=\"127.246094\" xlink:href=\"#DejaVuSans-48\"/>\n       <use x=\"190.869141\" xlink:href=\"#DejaVuSans-48\"/>\n       <use x=\"254.492188\" xlink:href=\"#DejaVuSans-48\"/>\n      </g>\n     </g>\n    </g>\n    <g id=\"ytick_8\">\n     <g id=\"line2d_15\">\n      <g>\n       <use style=\"stroke:#000000;stroke-width:0.8;\" x=\"59.690625\" xlink:href=\"#meee237aff7\" y=\"60.249989\"/>\n      </g>\n     </g>\n     <g id=\"text_16\">\n      <!-- 70000 -->\n      <g transform=\"translate(20.878125 64.049208)scale(0.1 -0.1)\">\n       <use xlink:href=\"#DejaVuSans-55\"/>\n       <use x=\"63.623047\" xlink:href=\"#DejaVuSans-48\"/>\n       <use x=\"127.246094\" xlink:href=\"#DejaVuSans-48\"/>\n       <use x=\"190.869141\" xlink:href=\"#DejaVuSans-48\"/>\n       <use x=\"254.492188\" xlink:href=\"#DejaVuSans-48\"/>\n      </g>\n     </g>\n    </g>\n    <g id=\"ytick_9\">\n     <g id=\"line2d_16\">\n      <g>\n       <use style=\"stroke:#000000;stroke-width:0.8;\" x=\"59.690625\" xlink:href=\"#meee237aff7\" y=\"34.60597\"/>\n      </g>\n     </g>\n     <g id=\"text_17\">\n      <!-- 80000 -->\n      <defs>\n       <path d=\"M 31.78125 34.625 \nQ 24.75 34.625 20.71875 30.859375 \nQ 16.703125 27.09375 16.703125 20.515625 \nQ 16.703125 13.921875 20.71875 10.15625 \nQ 24.75 6.390625 31.78125 6.390625 \nQ 38.8125 6.390625 42.859375 10.171875 \nQ 46.921875 13.96875 46.921875 20.515625 \nQ 46.921875 27.09375 42.890625 30.859375 \nQ 38.875 34.625 31.78125 34.625 \nz\nM 21.921875 38.8125 \nQ 15.578125 40.375 12.03125 44.71875 \nQ 8.5 49.078125 8.5 55.328125 \nQ 8.5 64.0625 14.71875 69.140625 \nQ 20.953125 74.21875 31.78125 74.21875 \nQ 42.671875 74.21875 48.875 69.140625 \nQ 55.078125 64.0625 55.078125 55.328125 \nQ 55.078125 49.078125 51.53125 44.71875 \nQ 48 40.375 41.703125 38.8125 \nQ 48.828125 37.15625 52.796875 32.3125 \nQ 56.78125 27.484375 56.78125 20.515625 \nQ 56.78125 9.90625 50.3125 4.234375 \nQ 43.84375 -1.421875 31.78125 -1.421875 \nQ 19.734375 -1.421875 13.25 4.234375 \nQ 6.78125 9.90625 6.78125 20.515625 \nQ 6.78125 27.484375 10.78125 32.3125 \nQ 14.796875 37.15625 21.921875 38.8125 \nz\nM 18.3125 54.390625 \nQ 18.3125 48.734375 21.84375 45.5625 \nQ 25.390625 42.390625 31.78125 42.390625 \nQ 38.140625 42.390625 41.71875 45.5625 \nQ 45.3125 48.734375 45.3125 54.390625 \nQ 45.3125 60.0625 41.71875 63.234375 \nQ 38.140625 66.40625 31.78125 66.40625 \nQ 25.390625 66.40625 21.84375 63.234375 \nQ 18.3125 60.0625 18.3125 54.390625 \nz\n\" id=\"DejaVuSans-56\"/>\n      </defs>\n      <g transform=\"translate(20.878125 38.405189)scale(0.1 -0.1)\">\n       <use xlink:href=\"#DejaVuSans-56\"/>\n       <use x=\"63.623047\" xlink:href=\"#DejaVuSans-48\"/>\n       <use x=\"127.246094\" xlink:href=\"#DejaVuSans-48\"/>\n       <use x=\"190.869141\" xlink:href=\"#DejaVuSans-48\"/>\n       <use x=\"254.492188\" xlink:href=\"#DejaVuSans-48\"/>\n      </g>\n     </g>\n    </g>\n    <g id=\"text_18\">\n     <!-- ct -->\n     <defs>\n      <path d=\"M 48.78125 52.59375 \nL 48.78125 44.1875 \nQ 44.96875 46.296875 41.140625 47.34375 \nQ 37.3125 48.390625 33.40625 48.390625 \nQ 24.65625 48.390625 19.8125 42.84375 \nQ 14.984375 37.3125 14.984375 27.296875 \nQ 14.984375 17.28125 19.8125 11.734375 \nQ 24.65625 6.203125 33.40625 6.203125 \nQ 37.3125 6.203125 41.140625 7.25 \nQ 44.96875 8.296875 48.78125 10.40625 \nL 48.78125 2.09375 \nQ 45.015625 0.34375 40.984375 -0.53125 \nQ 36.96875 -1.421875 32.421875 -1.421875 \nQ 20.0625 -1.421875 12.78125 6.34375 \nQ 5.515625 14.109375 5.515625 27.296875 \nQ 5.515625 40.671875 12.859375 48.328125 \nQ 20.21875 56 33.015625 56 \nQ 37.15625 56 41.109375 55.140625 \nQ 45.0625 54.296875 48.78125 52.59375 \nz\n\" id=\"DejaVuSans-99\"/>\n     </defs>\n     <g transform=\"translate(14.798438 135.7475)rotate(-90)scale(0.1 -0.1)\">\n      <use xlink:href=\"#DejaVuSans-99\"/>\n      <use x=\"54.980469\" xlink:href=\"#DejaVuSans-116\"/>\n     </g>\n    </g>\n   </g>\n   <g id=\"patch_21\">\n    <path d=\"M 59.690625 239.758125 \nL 59.690625 22.318125 \n\" style=\"fill:none;stroke:#000000;stroke-linecap:square;stroke-linejoin:miter;stroke-width:0.8;\"/>\n   </g>\n   <g id=\"patch_22\">\n    <path d=\"M 394.490625 239.758125 \nL 394.490625 22.318125 \n\" style=\"fill:none;stroke:#000000;stroke-linecap:square;stroke-linejoin:miter;stroke-width:0.8;\"/>\n   </g>\n   <g id=\"patch_23\">\n    <path d=\"M 59.690625 239.758125 \nL 394.490625 239.758125 \n\" style=\"fill:none;stroke:#000000;stroke-linecap:square;stroke-linejoin:miter;stroke-width:0.8;\"/>\n   </g>\n   <g id=\"patch_24\">\n    <path d=\"M 59.690625 22.318125 \nL 394.490625 22.318125 \n\" style=\"fill:none;stroke:#000000;stroke-linecap:square;stroke-linejoin:miter;stroke-width:0.8;\"/>\n   </g>\n   <g id=\"text_19\">\n    <!-- count of session lengths &lt; 20 -->\n    <defs>\n     <path d=\"M 8.5 21.578125 \nL 8.5 54.6875 \nL 17.484375 54.6875 \nL 17.484375 21.921875 \nQ 17.484375 14.15625 20.5 10.265625 \nQ 23.53125 6.390625 29.59375 6.390625 \nQ 36.859375 6.390625 41.078125 11.03125 \nQ 45.3125 15.671875 45.3125 23.6875 \nL 45.3125 54.6875 \nL 54.296875 54.6875 \nL 54.296875 0 \nL 45.3125 0 \nL 45.3125 8.40625 \nQ 42.046875 3.421875 37.71875 1 \nQ 33.40625 -1.421875 27.6875 -1.421875 \nQ 18.265625 -1.421875 13.375 4.4375 \nQ 8.5 10.296875 8.5 21.578125 \nz\nM 31.109375 56 \nz\n\" id=\"DejaVuSans-117\"/>\n     <path d=\"M 37.109375 75.984375 \nL 37.109375 68.5 \nL 28.515625 68.5 \nQ 23.6875 68.5 21.796875 66.546875 \nQ 19.921875 64.59375 19.921875 59.515625 \nL 19.921875 54.6875 \nL 34.71875 54.6875 \nL 34.71875 47.703125 \nL 19.921875 47.703125 \nL 19.921875 0 \nL 10.890625 0 \nL 10.890625 47.703125 \nL 2.296875 47.703125 \nL 2.296875 54.6875 \nL 10.890625 54.6875 \nL 10.890625 58.5 \nQ 10.890625 67.625 15.140625 71.796875 \nQ 19.390625 75.984375 28.609375 75.984375 \nz\n\" id=\"DejaVuSans-102\"/>\n     <path d=\"M 73.1875 49.21875 \nL 22.796875 31.296875 \nL 73.1875 13.484375 \nL 73.1875 4.59375 \nL 10.59375 27.296875 \nL 10.59375 35.40625 \nL 73.1875 58.109375 \nz\n\" id=\"DejaVuSans-60\"/>\n    </defs>\n    <g transform=\"translate(137.7225 16.318125)scale(0.12 -0.12)\">\n     <use xlink:href=\"#DejaVuSans-99\"/>\n     <use x=\"54.980469\" xlink:href=\"#DejaVuSans-111\"/>\n     <use x=\"116.162109\" xlink:href=\"#DejaVuSans-117\"/>\n     <use x=\"179.541016\" xlink:href=\"#DejaVuSans-110\"/>\n     <use x=\"242.919922\" xlink:href=\"#DejaVuSans-116\"/>\n     <use x=\"282.128906\" xlink:href=\"#DejaVuSans-32\"/>\n     <use x=\"313.916016\" xlink:href=\"#DejaVuSans-111\"/>\n     <use x=\"375.097656\" xlink:href=\"#DejaVuSans-102\"/>\n     <use x=\"410.302734\" xlink:href=\"#DejaVuSans-32\"/>\n     <use x=\"442.089844\" xlink:href=\"#DejaVuSans-115\"/>\n     <use x=\"494.189453\" xlink:href=\"#DejaVuSans-101\"/>\n     <use x=\"555.712891\" xlink:href=\"#DejaVuSans-115\"/>\n     <use x=\"607.8125\" xlink:href=\"#DejaVuSans-115\"/>\n     <use x=\"659.912109\" xlink:href=\"#DejaVuSans-105\"/>\n     <use x=\"687.695312\" xlink:href=\"#DejaVuSans-111\"/>\n     <use x=\"748.876953\" xlink:href=\"#DejaVuSans-110\"/>\n     <use x=\"812.255859\" xlink:href=\"#DejaVuSans-32\"/>\n     <use x=\"844.042969\" xlink:href=\"#DejaVuSans-108\"/>\n     <use x=\"871.826172\" xlink:href=\"#DejaVuSans-101\"/>\n     <use x=\"933.349609\" xlink:href=\"#DejaVuSans-110\"/>\n     <use x=\"996.728516\" xlink:href=\"#DejaVuSans-103\"/>\n     <use x=\"1060.205078\" xlink:href=\"#DejaVuSans-116\"/>\n     <use x=\"1099.414062\" xlink:href=\"#DejaVuSans-104\"/>\n     <use x=\"1162.792969\" xlink:href=\"#DejaVuSans-115\"/>\n     <use x=\"1214.892578\" xlink:href=\"#DejaVuSans-32\"/>\n     <use x=\"1246.679688\" xlink:href=\"#DejaVuSans-60\"/>\n     <use x=\"1330.46875\" xlink:href=\"#DejaVuSans-32\"/>\n     <use x=\"1362.255859\" xlink:href=\"#DejaVuSans-50\"/>\n     <use x=\"1425.878906\" xlink:href=\"#DejaVuSans-48\"/>\n    </g>\n   </g>\n  </g>\n </g>\n <defs>\n  <clipPath id=\"pb377bb3485\">\n   <rect height=\"217.44\" width=\"334.8\" x=\"59.690625\" y=\"22.318125\"/>\n  </clipPath>\n </defs>\n</svg>\n",
      "text/plain": "<Figure size 432x288 with 1 Axes>"
     },
     "metadata": {
      "needs_background": "light"
     },
     "output_type": "display_data"
    },
    {
     "name": "stdout",
     "output_type": "stream",
     "text": "max_embedding_key: 52738\nmax_session_len: 262\n509696 examples\nsplit into 326205 train, 81551 val, 101940 test\n[[3647, 3647], [2329, 2329, 1047, 2329], [56, 56, 56], [250, 250, 6884], [136, 36427, 36428, 36420, 7608, 7608, 288, 535], [46353, 46353, 12899, 11676], [46967, 46932, 46944, 45814, 22101, 12139, 46937, 47482, 47531, 46944, 47482, 47531], [4788, 248, 248, 248], [121, 43182, 121, 43182, 43182, 43182], [802, 28344, 802, 28344], [45316, 201, 419, 45299, 201], [4514, 1137, 818, 3513, 3319, 3513, 3513, 3513], [5765, 49304, 49304, 3447, 49304, 49304], [30744, 30740, 30740], [9760, 8779, 8779, 5862, 9760, 5862, 5862, 8779], [37900, 37870, 37900, 37882, 36718, 37870, 37900], [44606, 44618, 44606, 44618], [32209, 32209, 39239, 1075, 1075, 30930, 39287, 39296, 3034, 30930, 39296, 32209, 1075, 3034], [45224, 916, 63, 45224, 916, 63], [4956, 1192, 1189, 4956, 6884, 1189, 1189, 1189], [296, 2924, 296, 296, 296, 296], [3734, 492, 3734, 3735, 3734, 3734, 3735, 3735, 3734, 3735, 7410, 6795], [18752, 46296, 46299, 18752, 46296, 46299], [42450, 42439, 42454, 12451, 12451, 42454, 42450, 42439, 42454], [247, 33027, 599, 247, 247, 305, 748, 247], [30745, 30765, 30745], [9474, 9474, 9474, 6602, 6602, 1817, 8661, 13261, 13261, 9474, 6602, 13261], [7501, 43186, 44084, 9672, 9672, 6466, 10148, 20889, 3411, 41550, 7501, 44084, 6466, 10148, 20889], [37904, 487, 37882, 37904, 37878, 37878, 37904, 487, 37878], [2738, 3628, 2740, 2738, 2738], [372, 39311, 39310, 23102, 23102, 1823, 8393, 39277, 23102, 23102, 23102, 39277], [8905, 47060, 11626, 45305, 45259, 40670, 45260, 45260, 44121, 45773, 12328, 3192, 8906, 8905, 8906, 45305, 11626, 2356, 2502, 11626, 8905], [2489, 3562, 3562, 4042, 4042, 4042, 3562, 4042], [637, 44270, 44270, 637, 42316, 42316], [37883, 1570, 6269, 37883, 1570, 25904], [5141, 7929, 5141, 5141], [37900, 37870, 37900, 37870], [23082, 34, 3633, 12819, 6698, 2001, 13622, 23082, 3633, 12819], [50309, 37988, 45213, 48270, 37988, 49126, 50309], [543, 543, 543, 543], [200, 200, 200], [23201, 23201, 26265, 26266, 26266, 26265, 26266, 26266, 26266, 28339, 28339, 28339, 23201, 26266, 28339, 23201, 26266, 28339], [631, 30, 484, 30, 23264, 23103, 23103, 23103], [379, 13146, 9386, 2413, 33026, 13146, 9386], [33047, 33047, 33047, 33047, 33047, 33047, 33047, 33047, 33047], [802, 46916, 46915, 3120, 44133, 44807, 12399, 2412, 3670, 45222, 12654, 42489, 42465, 802, 46916, 3120, 42465], [14, 36415, 36432, 14, 36447, 36139, 36449, 36439, 36424, 34906, 34856, 34856, 36139, 36439, 34906, 36447], [30, 30, 30], [8314, 8314, 8314], [7752, 387, 7752, 8453, 7752, 7752, 7752]]\n"
    }
   ],
   "source": [
    "dataset, column_names, keymap = load_yoochoose_dataset(reinitialize=False)\n",
    "num_sessions = len(dataset)\n",
    "\n",
    "plt.hist([len(session) for session in dataset if len(session) < 20], bins=18)\n",
    "plt.xlabel(\"session length\")\n",
    "plt.ylabel(\"ct\")\n",
    "plt.title(\"count of session lengths < 20\")\n",
    "plt.show()\n",
    "\n",
    "max_embedding_key = len(keymap)-1\n",
    "max_session_len = max([len(i) for i in dataset])\n",
    "print(f\"max_embedding_key: {max_embedding_key}\")\n",
    "print(f\"max_session_len: {max_session_len}\")\n",
    "\n",
    "dataset = [[item[0] for item in session] for session in dataset]\n",
    "\n",
    "(x_train,), (x_val,), (x_test,) = train_val_test_split(dataset)\n",
    "\n",
    "print(f\"{len(dataset)} examples\")\n",
    "print(f\"split into {len(x_train)} train, {len(x_val)} val, {len(x_test)} test\")\n",
    "\n",
    "# x_train = np.array(list(train))\n",
    "# x_val = np.array(list(val))\n",
    "# x_test = np.array(list(test))\n",
    "\n",
    "print(x_train[:50])"
   ]
  },
  {
   "cell_type": "code",
   "execution_count": 6,
   "metadata": {},
   "outputs": [
    {
     "name": "stdout",
     "output_type": "stream",
     "text": "[ 1515  1515  1515  1515 30735 30759 30734 30734] 1.0\n[21268  3214 25408 46409 44769 50098 49776 46816] 0.0\n[48265 48259 32209 45767 44083 48285 48576  7705] 1.0\n[ 7533 17925 21681 30089 46796 18417 51930 33875] 0.0\n[ 547 8933  547  547    0    0    0    0] 1.0\n[1012 1012 1012 1012    0    0    0    0] 1.0\n[46296 46299 46320 46296 46299 46320     0     0] 1.0\n[503 743 743 743 743 503 743 743] 1.0\n[46295 23163 46295 23163     0     0     0     0] 1.0\n[30744 30744 30740 28446 28446 30744 30744   208] 1.0\n[ 2076    10  2076  2076  8832 33704  1052 33704] 1.0\n[42846  5552 36035 37878 29016 45778 48261 43155] 1.0\n[47405 40276 39049 52382 25740 23269  6268 38591] 0.0\n[47513 47513 47513     0     0     0     0     0] 1.0\n[43160 43160     0     0     0     0     0     0] 1.0\n[48620 45448 17401 30758 36343 15931 31024 28131] 0.0\n[33864 23967 20195 47002 11923 32697 18570 45178] 0.0\n[44615 44599 44615 44599     0     0     0     0] 1.0\n[37836 38311 52704 35447 24440 21987 26329 17472] 0.0\n[25308   134 34336 27951 19495 39955  7106  2394] 0.0\n[27254 47437 47547  3409 43202 46329  3226 27254] 1.0\n[48209 13144 28789 40877 38855  9067 41858  2853] 0.0\n[35824 29236 10616 42360 35870 13349 12641 16883] 0.0\n[38060 19812 50049 30712 15217 33700 40662 16017] 0.0\n[14571 43536 25809    24 41946 13391 20715 14841] 0.0\n[20166 43032  7254 41925 52590 39201 14268  5979] 0.0\n[632 114 114 115 115 115 936 114] 1.0\n[36427 36420 36423 36420 36420 33049 32209 36427] 1.0\n[1745 1745 1745    0    0    0    0    0] 1.0\n[49097 49104 49103 46299 49091 49099 49097 49104] 1.0\n[3802 5779 5779    0    0    0    0    0] 1.0\n[13053 21399  4883  2661 11705 27107  3074 24826] 0.0\n[ 1004 33047 33047     0     0     0     0     0] 1.0\n[19840 20548 23142 17458 16842 46379  6307 30164] 0.0\n[7142 3070 3070 3070    0    0    0    0] 1.0\n[28019 23755  4787 42377  9904 34726  9352 28125] 0.0\n[44408 34249    45 11039 40750 41418 15163 30759] 0.0\n[47059 47059 47057 47505 47059 47505 47059     0] 1.0\n[ 4687 38312 19115 37299 22267 29787 29841  2478] 0.0\n[44579 46919 44579     0     0     0     0     0] 1.0\n[24776 32627 45219   771 18139  3305 13052 39806] 0.0\n[1339 1339 1339 1339 1339    0    0    0] 1.0\n[43848 37586 25081  6352 46456 28409 10501 47474] 0.0\n[559 559 559 559   0   0   0   0] 1.0\n[46900 46346  3223 10828 46915 46915 46346 46321] 1.0\n[5775 5775 5775    0    0    0    0    0] 1.0\n[37980 37980  4950 37980 37980 37980     0     0] 1.0\n[19412 17656 19412 19412 19412     0     0     0] 1.0\n[ 9416 14096  7494 10448 10448 10753  4157 18645] 1.0\n[522 522 522   0   0   0   0   0] 1.0\n"
    }
   ],
   "source": [
    "# for x, y in zip(x_train_p[:50], y_train_p[:50]):\n",
    "#     print(x, y)"
   ]
  },
  {
   "cell_type": "code",
   "execution_count": 19,
   "metadata": {},
   "outputs": [],
   "source": [
    "class IdkModel(Model):\n",
    "    def __init__(self):\n",
    "        super(IdkModel, self).__init__()\n",
    "        self.embedding_layer = Embedding(max_embedding_key, 128, input_length=max_session_len)\n",
    "        self.encoder = Bidirectional(LSTM(64, return_sequences=False, return_state=False, unroll=False), merge_mode=\"concat\")\n",
    "        self.final_dense_layer = Dense(100, activation='relu', kernel_initializer='glorot_uniform', bias_initializer='zeros')\n",
    "        self.sigmoid_layer = Dense(max_embedding_key, kernel_initializer='glorot_uniform', bias_initializer='zeros', activation='softmax')\n",
    "\n",
    "    # def build_item_attention(self):\n",
    "    #     self.item_attention_W = \n",
    "\n",
    "    def call(self, x):\n",
    "        encoder_output = self.encoder(self.embedding_layer(x))\n",
    "        return self.sigmoid_layer(self.final_dense_layer(encoder_output))"
   ]
  },
  {
   "cell_type": "code",
   "execution_count": null,
   "metadata": {},
   "outputs": [],
   "source": [
    "\"\"\"\n",
    "model notes:\n",
    "attention: given a variable length vector A of fixed length vectors, construct a fixed length vector where each element is the output of a tanh * sigmoid. the sigmoid is a gate on the tanh that determines how important that vector is A. Importance is calculated from sigmoid of the dot product between the vector with the trainable importance vector\n",
    "            thus, attention is fundamentally a fully connected layer gated with sigmoid based on how similar the input is at that vector to the trainable importance vector.\n",
    "            attention masking: \n",
    "                there is still the problem that the output of attention has to be a fixed length vector. \n",
    "                to do this, the goal is to pad the attention vector with zeros\n",
    "                to do this, pad the output of u_{it}^T u_w with -infs so that the output of the softmax would be 0 and that these values won't affect the final ah\n",
    "\n",
    "\"\"\""
   ]
  },
  {
   "cell_type": "code",
   "execution_count": 6,
   "metadata": {},
   "outputs": [
    {
     "name": "stdout",
     "output_type": "stream",
     "text": "Train on 652410 samples, validate on 81551 samples\nEpoch 1/4\n652410/652410 [==============================] - 516s 791us/sample - loss: 0.0829 - accuracy: 0.9792 - val_loss: 0.0215 - val_accuracy: 0.9928\nEpoch 2/4\n652410/652410 [==============================] - 512s 784us/sample - loss: 0.0066 - accuracy: 0.9981 - val_loss: 0.0367 - val_accuracy: 0.9915\nEpoch 3/4\n652410/652410 [==============================] - 510s 782us/sample - loss: 7.7947e-04 - accuracy: 0.9998 - val_loss: 0.0488 - val_accuracy: 0.9932\nEpoch 4/4\n652410/652410 [==============================] - 514s 788us/sample - loss: 8.4637e-05 - accuracy: 1.0000 - val_loss: 0.0728 - val_accuracy: 0.9934\n"
    },
    {
     "data": {
      "text/plain": "<tensorflow.python.keras.callbacks.History at 0x7f044b57feb8>"
     },
     "execution_count": 6,
     "metadata": {},
     "output_type": "execute_result"
    }
   ],
   "source": [
    "batch_size = 64\n",
    "\n",
    "# model = IdkModel()\n",
    "\n",
    "# model.compile('adam', 'sparse_categorical_crossentropy', metrics=['accuracy'])\n",
    "# model.fit(x_train_p, y_train_p, batch_size=64, epochs=4, validation_data=[x_val, y_val])\n"
   ]
  },
  {
   "cell_type": "code",
   "execution_count": null,
   "metadata": {},
   "outputs": [],
   "source": [
    "# with tf.Session() as sess:\n",
    "#     y_true = tf.placeholder(dtype=tf.float64, shape=[None, 1])\n",
    "\n",
    "#     learning_rate=.001\n",
    "#     epochs=60\n",
    "#     ce_loss_term = -(tf.reduce_mean(((y_true+1)/2)*tf.math.log((pred_y+1)/2)+(1-(y_true+1)/2)*tf.math.log(1-(pred_y+1)/2)))\n",
    "#     train_step = tf.train.AdamOptimizer(learning_rate=learning_rate).minimize(ce_loss_term)\n",
    "\n",
    "#     sess.run(tf.global_variables_initializer())\n",
    "\n",
    "#     for epoch in tqdm(range(epochs), leave=False):\n",
    "#         print(\"epoch\", epoch)\n",
    "#         print(\"training\")\n",
    "#         for b_Xs, b_ys in batchify(train_Xs, train_ys, batch_size=746661):\n",
    "#             session_idxs, item_idxs = b_Xs.T\n",
    "#             feed_dict = {session_slice_idxs: session_idxs, \n",
    "#                         item_slice_idxs: item_idxs, \n",
    "#                         y_true: b_ys}\n",
    "#             outs = (train_step, ce_loss_term, pred_y)\n",
    "#             _, loss_val, pred_y_val = sess.run(outs, feed_dict=feed_dict)\n",
    "#             print(\"pred_ys\", pred_y_val, \"true_ys\", b_ys[:5])\n",
    "\n"
   ]
  },
  {
   "cell_type": "code",
   "execution_count": 49,
   "metadata": {},
   "outputs": [
    {
     "name": "stdout",
     "output_type": "stream",
     "text": "758464097976685 session length: 3\nbatch 116480.0/~326205: 0.9758288860321045 session length: 3\nbatch 117120.0/~326205: 0.9757347702980042 session length: 3\nbatch 117760.0/~326205: 0.9756968021392822 session length: 3\nbatch 118400.0/~326205: 0.9756888151168823 session length: 3\nbatch 119040.0/~326205: 0.9756767153739929 session length: 3\nbatch 119680.0/~326205: 0.975648045539856 session length: 3\nbatch 120320.0/~326205: 0.9756363034248352 session length: 3\nbatch 120960.0/~326205: 0.9755998849868774 session length: 3\nbatch 121600.0/~326205: 0.9755556583404541 session length: 3\nbatch 122240.0/~326205: 0.9755200147628784 session length: 3\nbatch 122880.0/~326205: 0.975525438785553 session length: 3\nbatch 123520.0/~326205: 0.9755187034606934 session length: 3\nbatch 124160.0/~326205: 0.9754999279975891 session length: 3\nbatch 124800.0/~326205: 0.9755173921585083 session length: 3\nbatch 125440.0/~326205: 0.9755067825317383 session length: 3\nbatch 126080.0/~326205: 0.975496232509613 session length: 3\nbatch 126720.0/~326205: 0.9754740595817566 session length: 3\nbatch 127360.0/~326205: 0.9754559397697449 session length: 3\nbatch 128000.0/~326205: 0.9754146337509155 session length: 3\nbatch 128640.0/~326205: 0.9753853678703308 session length: 3\nbatch 129280.0/~326205: 0.9753718972206116 session length: 3\nbatch 129920.0/~326205: 0.9753431081771851 session length: 3\nbatch 130560.0/~326205: 0.9753605723381042 session length: 3\nbatch 131200.0/~326205: 0.9753397703170776 session length: 3\nbatch 131840.0/~326205: 0.9753457307815552 session length: 3\nbatch 132480.0/~326205: 0.975355327129364 session length: 3\nbatch 133120.0/~326205: 0.9753236174583435 session length: 3\nbatch 133760.0/~326205: 0.9753146171569824 session length: 3\nbatch 134400.0/~326205: 0.9752759337425232 session length: 3\nbatch 135040.0/~326205: 0.9752820134162903 session length: 3\nbatch 135680.0/~326205: 0.9752290844917297 session length: 3\nbatch 136320.0/~326205: 0.9752060174942017 session length: 3\nbatch 136960.0/~326205: 0.9752233028411865 session length: 3\nbatch 137600.0/~326205: 0.9751278758049011 session length: 3\nbatch 138240.0/~326205: 0.9751200079917908 session length: 3\nbatch 138880.0/~326205: 0.9751194715499878 session length: 3\nbatch 139520.0/~326205: 0.9751117825508118 session length: 3\nbatch 140160.0/~326205: 0.9750970005989075 session length: 3\nbatch 140800.0/~326205: 0.9750859141349792 session length: 3\nbatch 141440.0/~326205: 0.9750643372535706 session length: 3\nbatch 142080.0/~326205: 0.9750464558601379 session length: 3\nbatch 142720.0/~326205: 0.9750357270240784 session length: 3\nbatch 143360.0/~326205: 0.9750460386276245 session length: 3\nbatch 144000.0/~326205: 0.9750215411186218 session length: 3\nbatch 144640.0/~326205: 0.9750110507011414 session length: 3\nbatch 145280.0/~326205: 0.9750213027000427 session length: 3\nbatch 145920.0/~326205: 0.9750246405601501 session length: 3\nbatch 146560.0/~326205: 0.9749870300292969 session length: 3\nbatch 147200.0/~326205: 0.9750006794929504 session length: 3\nbatch 147840.0/~326205: 0.9750446081161499 session length: 9\nbatch 148480.0/~326205: 0.9750949144363403 session length: 9\nbatch 149120.0/~326205: 0.9751448035240173 session length: 9\nbatch 149760.0/~326205: 0.9751842021942139 session length: 9\nbatch 150400.0/~326205: 0.9751834273338318 session length: 9\nbatch 151040.0/~326205: 0.9752323031425476 session length: 9\nbatch 151680.0/~326205: 0.9752576947212219 session length: 9\nbatch 152320.0/~326205: 0.9753156304359436 session length: 9\nbatch 152960.0/~326205: 0.9753404855728149 session length: 9\nbatch 153600.0/~326205: 0.9753651022911072 session length: 9\nbatch 154240.0/~326205: 0.9753894805908203 session length: 9\nbatch 154880.0/~326205: 0.9754136800765991 session length: 9\nbatch 155520.0/~326205: 0.9754409193992615 session length: 9\nbatch 156160.0/~326205: 0.9754775166511536 session length: 9\nbatch 156800.0/~326205: 0.9755138158798218 session length: 9\nbatch 157440.0/~326205: 0.9755308032035828 session length: 9\nbatch 158080.0/~326205: 0.9755381345748901 session length: 9\nbatch 158720.0/~326205: 0.975573718547821 session length: 9\nbatch 159360.0/~326205: 0.9756309986114502 session length: 9\nbatch 160000.0/~326205: 0.9756722450256348 session length: 9\nbatch 160640.0/~326205: 0.9756975769996643 session length: 9\nbatch 161280.0/~326205: 0.9757412672042847 session length: 9\nbatch 161920.0/~326205: 0.975800096988678 session length: 9\nbatch 162560.0/~326205: 0.9758492112159729 session length: 9\nbatch 163200.0/~326205: 0.9758550524711609 session length: 6\nbatch 163840.0/~326205: 0.9758486747741699 session length: 6\nbatch 164480.0/~326205: 0.9758574962615967 session length: 6\nbatch 165120.0/~326205: 0.9758844971656799 session length: 6\nbatch 165760.0/~326205: 0.975862979888916 session length: 6\nbatch 166400.0/~326205: 0.9758776426315308 session length: 6\nbatch 167040.0/~326205: 0.9758862853050232 session length: 6\nbatch 167680.0/~326205: 0.9759126901626587 session length: 6\nbatch 168320.0/~326205: 0.9759181141853333 session length: 6\nbatch 168960.0/~326205: 0.975920557975769 session length: 6\nbatch 169600.0/~326205: 0.9759318232536316 session length: 6\nbatch 170240.0/~326205: 0.9759371280670166 session length: 6\nbatch 170880.0/~326205: 0.9759365916252136 session length: 6\nbatch 171520.0/~326205: 0.9759446978569031 session length: 6\nbatch 172160.0/~326205: 0.9759586453437805 session length: 6\nbatch 172800.0/~326205: 0.975989818572998 session length: 6\nbatch 173440.0/~326205: 0.975986123085022 session length: 6\nbatch 174080.0/~326205: 0.9759939908981323 session length: 6\nbatch 174720.0/~326205: 0.9759874939918518 session length: 6\nbatch 175360.0/~326205: 0.9759810566902161 session length: 6\nbatch 176000.0/~326205: 0.9759945273399353 session length: 6\nbatch 176640.0/~326205: 0.9759965538978577 session length: 6\nbatch 177280.0/~326205: 0.975984513759613 session length: 6\nbatch 177920.0/~326205: 0.9760034680366516 session length: 6\nbatch 178560.0/~326205: 0.9759942889213562 session length: 6\nbatch 179200.0/~326205: 0.9760269522666931 session length: 6\nbatch 179840.0/~326205: 0.9760149717330933 session length: 6\nbatch 180480.0/~326205: 0.9760363101959229 session length: 6\nbatch 181120.0/~326205: 0.9760409593582153 session length: 6\nbatch 181760.0/~326205: 0.9760290384292603 session length: 6\nbatch 182400.0/~326205: 0.9760281443595886 session length: 6\nbatch 183040.0/~326205: 0.9760463833808899 session length: 6\nbatch 183680.0/~326205: 0.976059079170227 session length: 6\nbatch 184320.0/~326205: 0.976055383682251 session length: 6\nbatch 184960.0/~326205: 0.9760598540306091 session length: 6\nbatch 185600.0/~326205: 0.9760535359382629 session length: 6\nbatch 186240.0/~326205: 0.9760713577270508 session length: 6\nbatch 186880.0/~326205: 0.9760569930076599 session length: 6\nbatch 187520.0/~326205: 0.976080060005188 session length: 6\nbatch 188160.0/~326205: 0.9760949611663818 session length: 6\nbatch 188800.0/~326205: 0.9760859608650208 session length: 6\nbatch 189440.0/~326205: 0.9760585427284241 session length: 6\nbatch 190080.0/~326205: 0.9760760068893433 session length: 6\nbatch 190720.0/~326205: 0.9760802984237671 session length: 6\nbatch 191360.0/~326205: 0.9761080145835876 session length: 6\nbatch 192000.0/~326205: 0.9761485457420349 session length: 16\nbatch 192640.0/~326205: 0.9762096405029297 session length: 16\nbatch 193280.0/~326205: 0.9762650728225708 session length: 16\nbatch 193920.0/~326205: 0.9762995839118958 session length: 16\nbatch 194560.0/~326205: 0.976344108581543 session length: 16\nbatch 195200.0/~326205: 0.9764037132263184 session length: 16\nbatch 195840.0/~326205: 0.9764450788497925 session length: 16\nbatch 196480.0/~326205: 0.9764785766601562 session length: 16\nbatch 197120.0/~326205: 0.9765295386314392 session length: 37\nbatch 197760.0/~326205: 0.9765953421592712 session length: 26\nbatch 198400.0/~326205: 0.9766506552696228 session length: 26\nbatch 199040.0/~326205: 0.9767106771469116 session length: 40\nbatch 199680.0/~326205: 0.976770281791687 session length: 27\nbatch 200320.0/~326205: 0.9768245220184326 session length: 27\nbatch 200960.0/~326205: 0.9768733978271484 session length: 12\nbatch 201600.0/~326205: 0.9769220352172852 session length: 12\nbatch 202240.0/~326205: 0.976948082447052 session length: 12\nbatch 202880.0/~326205: 0.9769567251205444 session length: 12\nbatch 203520.0/~326205: 0.9769971966743469 session length: 12\nbatch 204160.0/~326205: 0.9770374894142151 session length: 12\nbatch 204800.0/~326205: 0.977057933807373 session length: 12\nbatch 205440.0/~326205: 0.9770734310150146 session length: 12\nbatch 206080.0/~326205: 0.9771009683609009 session length: 12\nbatch 206720.0/~326205: 0.9771307110786438 session length: 12\nbatch 207360.0/~326205: 0.9771482348442078 session length: 12\nbatch 208000.0/~326205: 0.9771944880485535 session length: 12\nbatch 208640.0/~326205: 0.9772309064865112 session length: 12\nbatch 209280.0/~326205: 0.977247953414917 session length: 12\nbatch 209920.0/~326205: 0.9773006439208984 session length: 12\nbatch 210560.0/~326205: 0.977345883846283 session length: 12\nbatch 211200.0/~326205: 0.9774026870727539 session length: 18\nbatch 211840.0/~326205: 0.9774591326713562 session length: 18\nbatch 212480.0/~326205: 0.9774870276451111 session length: 18\nbatch 213120.0/~326205: 0.9775311350822449 session length: 18\nbatch 213760.0/~326205: 0.9775726795196533 session length: 18\nbatch 214400.0/~326205: 0.9776163101196289 session length: 18\nbatch 215040.0/~326205: 0.9776224493980408 session length: 7\nbatch 215680.0/~326205: 0.9776216149330139 session length: 7\nbatch 216320.0/~326205: 0.9776185154914856 session length: 7\nbatch 216960.0/~326205: 0.977620005607605 session length: 7\nbatch 217600.0/~326205: 0.9776237607002258 session length: 7\nbatch 218240.0/~326205: 0.9776275157928467 session length: 7\nbatch 218880.0/~326205: 0.9776426553726196 session length: 7\nbatch 219520.0/~326205: 0.9776554703712463 session length: 7\nbatch 220160.0/~326205: 0.9776318669319153 session length: 7\nbatch 220800.0/~326205: 0.9776378273963928 session length: 7\nbatch 221440.0/~326205: 0.9776347279548645 session length: 7\nbatch 222080.0/~326205: 0.977656364440918 session length: 7\nbatch 222720.0/~326205: 0.9776644706726074 session length: 7\nbatch 223360.0/~326205: 0.9776747226715088 session length: 7\nbatch 224000.0/~326205: 0.9776782393455505 session length: 7\nbatch 224640.0/~326205: 0.9776817560195923 session length: 7\nbatch 225280.0/~326205: 0.9776962995529175 session length: 7\nbatch 225920.0/~326205: 0.9776842594146729 session length: 7\nbatch 226560.0/~326205: 0.9777053594589233 session length: 7\nbatch 227200.0/~326205: 0.9777219295501709 session length: 7\nbatch 227840.0/~326205: 0.977736234664917 session length: 7\nbatch 228480.0/~326205: 0.9777526259422302 session length: 7\nbatch 229120.0/~326205: 0.9777776598930359 session length: 7\nbatch 229760.0/~326205: 0.9777764678001404 session length: 7\nbatch 230400.0/~326205: 0.9777817726135254 session length: 7\nbatch 231040.0/~326205: 0.9777762293815613 session length: 7\nbatch 231680.0/~326205: 0.9777944684028625 session length: 7\nbatch 232320.0/~326205: 0.977799654006958 session length: 7\nbatch 232960.0/~326205: 0.9777876734733582 session length: 7\nbatch 233600.0/~326205: 0.9778035879135132 session length: 7\nbatch 234240.0/~326205: 0.9777959585189819 session length: 7\nbatch 234880.0/~326205: 0.9778032302856445 session length: 7\nbatch 235520.0/~326205: 0.9777913689613342 session length: 7\nbatch 236160.0/~326205: 0.9778134226799011 session length: 7\nbatch 236800.0/~326205: 0.977820634841919 session length: 24\nbatch 237440.0/~326205: 0.9778635501861572 session length: 24\nbatch 238080.0/~326205: 0.977918803691864 session length: 24\nbatch 238720.0/~326205: 0.9779612421989441 session length: 13\nbatch 239360.0/~326205: 0.9779930114746094 session length: 13\nbatch 240000.0/~326205: 0.9780266880989075 session length: 13\nbatch 240640.0/~326205: 0.978056013584137 session length: 13\nbatch 241280.0/~326205: 0.9780811071395874 session length: 13\nbatch 241920.0/~326205: 0.978110134601593 session length: 13\nbatch 242560.0/~326205: 0.9781596064567566 session length: 13\nbatch 243200.0/~326205: 0.9781985878944397 session length: 13\nbatch 243840.0/~326205: 0.9782229661941528 session length: 13\nbatch 244480.0/~326205: 0.9782493114471436 session length: 13\nbatch 245120.0/~326205: 0.9782693982124329 session length: 13\nbatch 245760.0/~326205: 0.978291392326355 session length: 13\nbatch 246400.0/~326205: 0.9783234000205994 session length: 13\nbatch 247040.0/~326205: 0.978310763835907 session length: 5\nbatch 247680.0/~326205: 0.978296160697937 session length: 5\nbatch 248320.0/~326205: 0.9782614707946777 session length: 5\nbatch 248960.0/~326205: 0.9782611131668091 session length: 5\nbatch 249600.0/~326205: 0.9782427549362183 session length: 5\nbatch 250240.0/~326205: 0.9782284498214722 session length: 5\nbatch 250880.0/~326205: 0.9782341718673706 session length: 5\nbatch 251520.0/~326205: 0.9782120585441589 session length: 5\nbatch 252160.0/~326205: 0.9782058596611023 session length: 5\nbatch 252800.0/~326205: 0.978205680847168 session length: 5\nbatch 253440.0/~326205: 0.978181779384613 session length: 5\nbatch 254080.0/~326205: 0.9781718254089355 session length: 5\nbatch 254720.0/~326205: 0.9781618714332581 session length: 5\nbatch 255360.0/~326205: 0.9781539440155029 session length: 5\nbatch 256000.0/~326205: 0.9781422019004822 session length: 5\nbatch 256640.0/~326205: 0.978120744228363 session length: 5\nbatch 257280.0/~326205: 0.9781129360198975 session length: 5\nbatch 257920.0/~326205: 0.9781187772750854 session length: 5\nbatch 258560.0/~326205: 0.9781091213226318 session length: 5\nbatch 259200.0/~326205: 0.9781149625778198 session length: 5\nbatch 259840.0/~326205: 0.9781188368797302 session length: 5\nbatch 260480.0/~326205: 0.9781227111816406 session length: 5\nbatch 261120.0/~326205: 0.978111207485199 session length: 5\nbatch 261760.0/~326205: 0.9780997633934021 session length: 5\nbatch 262400.0/~326205: 0.9780884385108948 session length: 5\nbatch 263040.0/~326205: 0.9780790209770203 session length: 5\nbatch 263680.0/~326205: 0.9780715107917786 session length: 5\nbatch 264320.0/~326205: 0.9780603051185608 session length: 5\nbatch 264960.0/~326205: 0.9780585765838623 session length: 5\nbatch 265600.0/~326205: 0.9780568480491638 session length: 5\nbatch 266240.0/~326205: 0.9780495166778564 session length: 5\nbatch 266880.0/~326205: 0.9780290722846985 session length: 5\nbatch 267520.0/~326205: 0.9780125021934509 session length: 5\nbatch 268160.0/~326205: 0.9780202507972717 session length: 5\nbatch 268800.0/~326205: 0.9780204892158508 session length: 5\nbatch 269440.0/~326205: 0.9779965877532959 session length: 5\nbatch 270080.0/~326205: 0.9779876470565796 session length: 5\nbatch 270720.0/~326205: 0.97797691822052 session length: 5\nbatch 271360.0/~326205: 0.9779754281044006 session length: 5\nbatch 272000.0/~326205: 0.9779647588729858 session length: 5\nbatch 272640.0/~326205: 0.9779688119888306 session length: 5\nbatch 273280.0/~326205: 0.9779563546180725 session length: 5\nbatch 273920.0/~326205: 0.9779403209686279 session length: 5\nbatch 274560.0/~326205: 0.9779443740844727 session length: 5\nbatch 275200.0/~326205: 0.9779375195503235 session length: 5\nbatch 275840.0/~326205: 0.9779524803161621 session length: 5\nbatch 276480.0/~326205: 0.9779601097106934 session length: 5\nbatch 277120.0/~326205: 0.9779568910598755 session length: 5\nbatch 277760.0/~326205: 0.9779572486877441 session length: 5\nbatch 278400.0/~326205: 0.9779720306396484 session length: 15\nbatch 279040.0/~326205: 0.9780046343803406 session length: 15\nbatch 279680.0/~326205: 0.9780352711677551 session length: 15\nbatch 280320.0/~326205: 0.9780622124671936 session length: 15\nbatch 280960.0/~326205: 0.9781014919281006 session length: 15\nbatch 281600.0/~326205: 0.9781317710876465 session length: 15\nbatch 282240.0/~326205: 0.9781582951545715 session length: 15\nbatch 282880.0/~326205: 0.9781776666641235 session length: 15\nbatch 283520.0/~326205: 0.978202223777771 session length: 15\nbatch 284160.0/~326205: 0.9782266616821289 session length: 15\nbatch 284800.0/~326205: 0.9782562851905823 session length: 10\nbatch 285440.0/~326205: 0.9782717823982239 session length: 10\nbatch 286080.0/~326205: 0.9782924056053162 session length: 10\nbatch 286720.0/~326205: 0.9783094525337219 session length: 10\nbatch 287360.0/~326205: 0.9783281683921814 session length: 10\nbatch 288000.0/~326205: 0.9783624410629272 session length: 10\nbatch 288640.0/~326205: 0.9783844351768494 session length: 10\nbatch 289280.0/~326205: 0.9783942103385925 session length: 10\nbatch 289920.0/~326205: 0.9784160256385803 session length: 10\nbatch 290560.0/~326205: 0.978417158126831 session length: 10\nbatch 291200.0/~326205: 0.9784319400787354 session length: 10\nbatch 291840.0/~326205: 0.9784364104270935 session length: 10\nbatch 292480.0/~326205: 0.978447675704956 session length: 10\nbatch 293120.0/~326205: 0.9784572124481201 session length: 10\nbatch 293760.0/~326205: 0.978476881980896 session length: 10\nbatch 294400.0/~326205: 0.9784948229789734 session length: 10\nbatch 295040.0/~326205: 0.9784991145133972 session length: 10\nbatch 295680.0/~326205: 0.9785050749778748 session length: 10\nbatch 296320.0/~326205: 0.9785194396972656 session length: 10\nbatch 296960.0/~326205: 0.9785286784172058 session length: 10\nbatch 297600.0/~326205: 0.9785445928573608 session length: 10\nbatch 298240.0/~326205: 0.9785755276679993 session length: 46\nbatch 298880.0/~326205: 0.9786113500595093 session length: 23\nbatch 299520.0/~326205: 0.9786470532417297 session length: 23\nbatch 300160.0/~326205: 0.9786725640296936 session length: 23\nbatch 300800.0/~326205: 0.9787079691886902 session length: 22\nbatch 301440.0/~326205: 0.9787349700927734 session length: 22\nbatch 302080.0/~326205: 0.978765070438385 session length: 22\nbatch 302720.0/~326205: 0.9787868857383728 session length: 20\nbatch 303360.0/~326205: 0.97881019115448 session length: 20\nbatch 304000.0/~326205: 0.9788399934768677 session length: 20\nbatch 304640.0/~326205: 0.9788696765899658 session length: 20\nbatch 305280.0/~326205: 0.9788975715637207 session length: 20\nbatch 305920.0/~326205: 0.9789237380027771 session length: 30\nbatch 306560.0/~326205: 0.9789562821388245 session length: 17\nbatch 307200.0/~326205: 0.9789789915084839 session length: 17\nbatch 307840.0/~326205: 0.9790112972259521 session length: 17\nbatch 308480.0/~326205: 0.9790418744087219 session length: 17\nbatch 309120.0/~326205: 0.9790610074996948 session length: 17\nbatch 309760.0/~326205: 0.9790897369384766 session length: 17\nbatch 310400.0/~326205: 0.9791135191917419 session length: 17\nbatch 311040.0/~326205: 0.9791452288627625 session length: 33\nbatch 311680.0/~326205: 0.9791688323020935 session length: 11\nbatch 312320.0/~326205: 0.9791954755783081 session length: 11\nbatch 312960.0/~326205: 0.9792172312736511 session length: 11\nbatch 313600.0/~326205: 0.9792357683181763 session length: 11\nbatch 314240.0/~326205: 0.9792525768280029 session length: 11\nbatch 314880.0/~326205: 0.9792724847793579 session length: 11\nbatch 315520.0/~326205: 0.979293942451477 session length: 11\nbatch 316160.0/~326205: 0.9793200492858887 session length: 11\nbatch 316800.0/~326205: 0.9793491959571838 session length: 11\nbatch 317440.0/~326205: 0.9793719053268433 session length: 11\nbatch 318080.0/~326205: 0.9793866872787476 session length: 11\nbatch 318720.0/~326205: 0.9794108271598816 session length: 11\nbatch 319360.0/~326205: 0.9794317483901978 session length: 11\nbatch 320000.0/~326205: 0.9794400334358215 session length: 11\nbatch 320640.0/~326205: 0.9794561266899109 session length: 11\nbatch 321280.0/~326205: 0.979476809501648 session length: 11\nbatch 321920.0/~326205: 0.9794912338256836 session length: 11\nbatch 322560.0/~326205: 0.9795008897781372 session length: 11\nbatch 323200.0/~326205: 0.9795291423797607 session length: 29\nEpoch 5, Loss: 9.894079208374023, Accuracy: 97.95500946044922, Test Loss: 9.89712142944336, Test Accuracy: 97.59668731689453\n"
    }
   ],
   "source": [
    "from tqdm import tqdm\n",
    "\n",
    "batch_size = 128\n",
    "\n",
    "# model.fit(x_train_p, y_train_p, batch_size=batch_size, epochs=4, validation_data=[x_val, y_val])\n",
    "\n",
    "# row_id_to_idx = {k: v for v, k in enumerate(set(clicks_df[\"sessionId\"])|set(buys_df[\"sessionId\"]))}\n",
    "# col_id_to_idx = {k: v for v, k in enumerate(set(clicks_df[\"itemId\"])|set(buys_df[\"itemId\"]))}\n",
    "\n",
    "# matrix_shape = (len(row_id_to_idx), len(col_id_to_idx))\n",
    "\n",
    "# row_indices = [row_id_to_idx[row_id] for row_id in clicks_df[\"sessionId\"]]\n",
    "# col_indices = [col_id_to_idx[col_id] for col_id in clicks_df[\"itemId\"]]\n",
    "# elements = np.ones(len(col_indices), dtype=np.int8)\n",
    "# viewed_matrix = csr_matrix((elements, (row_indices, col_indices)), shape=matrix_shape)\n",
    "\n",
    "# row_indices = [row_id_to_idx[row_id] for row_id in buys_df[\"sessionId\"]]\n",
    "# col_indices = [col_id_to_idx[col_id] for col_id in buys_df[\"itemId\"]]\n",
    "# elements = np.ones(len(col_indices), dtype=np.int8)\n",
    "# buys_matrix = csr_matrix((elements, (row_indices, col_indices)), shape=matrix_shape)\n",
    "\n",
    "# interaction_matrix = 2*buys_matrix-viewed_matrix\n",
    "model = IdkModel()\n",
    "\n",
    "loss_object = tf.keras.losses.SparseCategoricalCrossentropy(from_logits=True)\n",
    "\n",
    "optimizer = tf.keras.optimizers.Adam(learning_rate=.001)\n",
    "\n",
    "train_loss = tf.keras.metrics.Mean(name='train_loss')\n",
    "train_accuracy = tf.keras.metrics.SparseCategoricalAccuracy(name='train_accuracy')\n",
    "\n",
    "test_loss = tf.keras.metrics.Mean(name='test_loss')\n",
    "test_accuracy = tf.keras.metrics.SparseCategoricalAccuracy(name='test_accuracy')\n",
    "\n",
    "\n",
    "@tf.function\n",
    "def train_step(sessions, labels):\n",
    "    with tf.GradientTape() as tape:\n",
    "        # training=True is only needed if there are layers with different\n",
    "        # behavior during training versus inference (e.g. Dropout).\n",
    "        predictions = model(sessions, training=True)\n",
    "        loss = loss_object(labels, predictions)\n",
    "    gradients = tape.gradient(loss, model.trainable_variables)\n",
    "    optimizer.apply_gradients(zip(gradients, model.trainable_variables))\n",
    "\n",
    "    train_loss(loss)\n",
    "    train_accuracy(labels, predictions)\n",
    "\n",
    "@tf.function\n",
    "def test_step(sessions, labels):\n",
    "    # training=False is only needed if there are layers with different\n",
    "    # behavior during training versus inference (e.g. Dropout).\n",
    "    predictions = model(sessions, training=False)\n",
    "    t_loss = loss_object(labels, predictions)\n",
    "\n",
    "    test_loss(t_loss)\n",
    "    test_accuracy(labels, predictions)\n",
    "\n",
    "\n",
    "EPOCHS = 5\n",
    "num_x = len(x_train)\n",
    "\n",
    "for epoch in range(EPOCHS):\n",
    "    print(f\"epoch {epoch}/{EPOCHS}\")\n",
    "# Reset the metrics at the start of the next epoch\n",
    "    train_loss.reset_states()\n",
    "    train_accuracy.reset_states()\n",
    "    test_loss.reset_states()\n",
    "    test_accuracy.reset_states()\n",
    "\n",
    "    assert(batch_size == int(batch_size/2)*2)\n",
    "    for i, batch_sess in enumerate(batchify_bin_by_sess_len(x_train, batch_size=int(batch_size/2), split_long_sess=False)):\n",
    "        batch_sess, batch_labels = augment_negative_examples(batch_sess, max_embedding_key)\n",
    "        train_step(tf.constant(batch_sess), tf.constant(batch_labels))\n",
    "        if i % 10 == 0:\n",
    "            tf.print(f\"batch {i}/~{num_x/(batch_size/2)}: {train_accuracy.result()} session length: {len(batch_sess[0])}\")\n",
    "\n",
    "    for i, batch_sess in enumerate(batchify_bin_by_sess_len(x_val, batch_size=int(batch_size/2), split_long_sess=False)):\n",
    "        batch_sess, batch_labels = augment_negative_examples(batch_sess, max_embedding_key)\n",
    "        test_step(tf.constant(batch_sess), tf.constant(batch_labels))\n",
    "\n",
    "    template = 'Epoch {}, Loss: {}, Accuracy: {}, Test Loss: {}, Test Accuracy: {}'\n",
    "    print(template.format(epoch+1,\n",
    "        train_loss.result(),\n",
    "        train_accuracy.result()*100,\n",
    "        test_loss.result(),\n",
    "        test_accuracy.result()*100))\n"
   ]
  },
  {
   "cell_type": "code",
   "execution_count": 35,
   "metadata": {},
   "outputs": [
    {
     "name": "stdout",
     "output_type": "stream",
     "text": "[[44123 44120 44094  5775 44123 44120 44094     0]\n [   49 23331 23331 28328 28328 28328     0     0]\n [42449 42446 42436 42335 42461 42449 42436 42335]\n [46988 46971 46971 46971     0     0     0     0]\n [32209 33029 30930 32209 32207 33028 33042 33051]\n [  682  3753   162   162 23216   162     0     0]\n [44590 44580 44580 40664 40664 44134 44134 45253]\n [ 1907  2424 34814  2327 34814  1907  2424 34814]\n [30865  8946 30865 30865     0     0     0     0]\n [  874   874   402   402   162   162   162   284]]\n"
    },
    {
     "data": {
      "text/plain": "array([[5.89e-05, 1, 5.39e-18, 5.6e-18, 5.2e-18, 3.76e-18, 3.69e-18, 7.16e-18, 6.38e-18, 5.09e-18, 5.43e-18, 4.61e-18, 8.43e-18, 8.41e-18, 4.89e-18, 7.06e-18, 5.05e-18, 4.06e-18, 4.1e-18, 4.02e-18, 5.8e-18, 7.46e-18, 5.13e-18, 4.36e-18, 6.71e-18, 5.4e-18, 6.3e-18, 4.54e-18, 3.32e-18, 7.83e-18, ..., 2.63e-18, 5.54e-18, 4.6e-18, 3.5e-18, 6.29e-18, 5.66e-18, 4.72e-18, 4.2e-18, 5.63e-18, 3.79e-18, 5.32e-18, 4.8e-18, 6.72e-18, 5.97e-18, 5.99e-18, 3.85e-18, 4.97e-18, 5.42e-18, 5.19e-18, 4.91e-18, 5.04e-18, 5.18e-18, 5.6e-18, 6.75e-18, 5.65e-18, 7.04e-18, 5.37e-18, 4.84e-18, 3.75e-18, 3.11e-18]], dtype=float32)"
     },
     "execution_count": 35,
     "metadata": {},
     "output_type": "execute_result"
    }
   ],
   "source": [
    "print(x_train[:10])\n",
    "\n",
    "model.predict(np.array([[42449, 42446, 42436, 42335, 42461, 42449, 42436, 42335]], dtype=np.uint32))\n",
    "\n",
    "\n",
    "# plt.hist(np.sum(interaction_matrix, axis=1), log=True, bins=300)\n",
    "# plt.xlabel(\"item views per session\")\n",
    "# plt.ylabel(\"count\")\n",
    "# plt.show()"
   ]
  },
  {
   "cell_type": "code",
   "execution_count": 28,
   "metadata": {},
   "outputs": [
    {
     "name": "stdout",
     "output_type": "stream",
     "text": "[25417 49679 37293 15398   981 14834 33095   471]\n"
    }
   ],
   "source": [
    "print(fake_x_train[0])\n",
    "# plt.hist([v for _, v  in dict(Counter(df[\"itemId\"])).items()], log=True, bins=1000)\n",
    "# plt.xlabel(\"number of sessions that viewed item x\")\n",
    "# plt.ylabel(\"count\")\n",
    "# plt.show()"
   ]
  },
  {
   "cell_type": "code",
   "execution_count": 33,
   "metadata": {},
   "outputs": [
    {
     "data": {
      "text/plain": "array([[0.945, 0.0552, 4.84e-11, 4.52e-11, 4.46e-11, 3.99e-11, 4.21e-11, 5.11e-11, 4.6e-11, 4.9e-11, 4.98e-11, 4.27e-11, 6.05e-11, 4.97e-11, 4.68e-11, 5.24e-11, 4.64e-11, 4.18e-11, 4.14e-11, 4e-11, 4.91e-11, 5.36e-11, 4.8e-11, 4.4e-11, 5.25e-11, 4.7e-11, 4.75e-11, 4.55e-11, 3.98e-11, 5.61e-11, ..., 3.42e-11, 4.66e-11, 4.48e-11, 3.92e-11, 4.89e-11, 5.2e-11, 4.37e-11, 4.48e-11, 4.71e-11, 4.17e-11, 4.53e-11, 4.57e-11, 4.89e-11, 4.94e-11, 4.65e-11, 4.21e-11, 4.72e-11, 5.01e-11, 4.71e-11, 4.52e-11, 4.53e-11, 4.75e-11, 4.53e-11, 5.01e-11, 4.76e-11, 5.23e-11, 4.59e-11, 4.56e-11, 4.12e-11, 3.71e-11]], dtype=float32)"
     },
     "execution_count": 33,
     "metadata": {},
     "output_type": "execute_result"
    }
   ],
   "source": [
    "model.predict(np.array([[5485, 1403, 30082, 47289, 10502, 14578, 12312, 1604]], dtype=np.uint32))\n",
    "\n",
    "\n",
    "# users = df[\"userId\"].to_numpy()\n",
    "# print(sum(np.isnan(users))/len(users))\n",
    "# # most interactions don't have userids"
   ]
  },
  {
   "cell_type": "code",
   "execution_count": null,
   "metadata": {},
   "outputs": [],
   "source": [
    "# print(len(set(df[\"sessionId\"].to_numpy())))\n",
    "# print(max(df[\"sessionId\"].to_numpy()))\n",
    "# # half of all sessions don't have any info at all\n"
   ]
  },
  {
   "cell_type": "code",
   "execution_count": 8,
   "metadata": {},
   "outputs": [],
   "source": [
    "# model\n",
    "# NUM_SESSIONS, NUM_ITEMS = len(sess_id_to_idx), len(item_id_to_idx)\n",
    "# embedding_dim = 500\n",
    "\n",
    "# session_embeddings = tf.Variable(tf.random_normal_initializer(dtype=tf.float64)([NUM_SESSIONS, embedding_dim]))\n",
    "# item_embeddings = tf.Variable(tf.random_normal_initializer(dtype=tf.float64)([embedding_dim, NUM_ITEMS]))\n",
    "\n",
    "# session_slice_idxs = tf.placeholder(dtype=tf.int64, shape=[None, 1]) # columns vectors to do tensor slicing\n",
    "# item_slice_idxs = tf.placeholder(dtype=tf.int64, shape=[None, 1]) # columns vectors to do tensor slicing\n",
    "\n",
    "# session_embedding_columns = tf.reshape(tf.gather_nd(session_embeddings, session_slice_idxs), [-1, embedding_dim])\n",
    "# item_embedding_rows = tf.reshape(tf.gather_nd(item_embeddings, session_slice_idxs), [-1, embedding_dim])\n",
    "\n",
    "# matrix_factorization_layer = session_embedding_columns * item_embedding_rows\n",
    "\n",
    "# pred_y = tf.nn.sigmoid(matrix_factorization_layer)"
   ]
  },
  {
   "cell_type": "code",
   "execution_count": null,
   "metadata": {},
   "outputs": [],
   "source": []
  }
 ],
 "metadata": {
  "file_extension": ".py",
  "kernelspec": {
   "display_name": "Python 3.7.4 64-bit ('tf2': conda)",
   "language": "python",
   "name": "python37464bittf2conda5b374ca37842424e87cbc2e4927142fe"
  },
  "language_info": {
   "codemirror_mode": {
    "name": "ipython",
    "version": 3
   },
   "file_extension": ".py",
   "mimetype": "text/x-python",
   "name": "python",
   "nbconvert_exporter": "python",
   "pygments_lexer": "ipython3",
   "version": "3.7.3-final"
  },
  "mimetype": "text/x-python",
  "name": "python",
  "npconvert_exporter": "python",
  "pygments_lexer": "ipython3",
  "version": 3
 },
 "nbformat": 4,
 "nbformat_minor": 2
}